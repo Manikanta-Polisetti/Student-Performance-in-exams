{
 "cells": [
  {
   "cell_type": "markdown",
   "metadata": {},
   "source": [
    "# Importing the libraries"
   ]
  },
  {
   "cell_type": "code",
   "execution_count": 1,
   "metadata": {},
   "outputs": [],
   "source": [
    "import pandas as  pd\n",
    "import numpy as np\n",
    "import matplotlib.pyplot as plt\n",
    "import seaborn as sns"
   ]
  },
  {
   "cell_type": "markdown",
   "metadata": {},
   "source": [
    "# Importing the dataset"
   ]
  },
  {
   "cell_type": "code",
   "execution_count": 2,
   "metadata": {},
   "outputs": [
    {
     "data": {
      "text/html": [
       "<div>\n",
       "<style scoped>\n",
       "    .dataframe tbody tr th:only-of-type {\n",
       "        vertical-align: middle;\n",
       "    }\n",
       "\n",
       "    .dataframe tbody tr th {\n",
       "        vertical-align: top;\n",
       "    }\n",
       "\n",
       "    .dataframe thead th {\n",
       "        text-align: right;\n",
       "    }\n",
       "</style>\n",
       "<table border=\"1\" class=\"dataframe\">\n",
       "  <thead>\n",
       "    <tr style=\"text-align: right;\">\n",
       "      <th></th>\n",
       "      <th>gender</th>\n",
       "      <th>race/ethnicity</th>\n",
       "      <th>parental level of education</th>\n",
       "      <th>lunch</th>\n",
       "      <th>test preparation course</th>\n",
       "      <th>math score</th>\n",
       "      <th>reading score</th>\n",
       "      <th>writing score</th>\n",
       "    </tr>\n",
       "  </thead>\n",
       "  <tbody>\n",
       "    <tr>\n",
       "      <th>0</th>\n",
       "      <td>female</td>\n",
       "      <td>group B</td>\n",
       "      <td>bachelor's degree</td>\n",
       "      <td>standard</td>\n",
       "      <td>none</td>\n",
       "      <td>72</td>\n",
       "      <td>72</td>\n",
       "      <td>74</td>\n",
       "    </tr>\n",
       "    <tr>\n",
       "      <th>1</th>\n",
       "      <td>female</td>\n",
       "      <td>group C</td>\n",
       "      <td>some college</td>\n",
       "      <td>standard</td>\n",
       "      <td>completed</td>\n",
       "      <td>69</td>\n",
       "      <td>90</td>\n",
       "      <td>88</td>\n",
       "    </tr>\n",
       "    <tr>\n",
       "      <th>2</th>\n",
       "      <td>female</td>\n",
       "      <td>group B</td>\n",
       "      <td>master's degree</td>\n",
       "      <td>standard</td>\n",
       "      <td>none</td>\n",
       "      <td>90</td>\n",
       "      <td>95</td>\n",
       "      <td>93</td>\n",
       "    </tr>\n",
       "    <tr>\n",
       "      <th>3</th>\n",
       "      <td>male</td>\n",
       "      <td>group A</td>\n",
       "      <td>associate's degree</td>\n",
       "      <td>free/reduced</td>\n",
       "      <td>none</td>\n",
       "      <td>47</td>\n",
       "      <td>57</td>\n",
       "      <td>44</td>\n",
       "    </tr>\n",
       "    <tr>\n",
       "      <th>4</th>\n",
       "      <td>male</td>\n",
       "      <td>group C</td>\n",
       "      <td>some college</td>\n",
       "      <td>standard</td>\n",
       "      <td>none</td>\n",
       "      <td>76</td>\n",
       "      <td>78</td>\n",
       "      <td>75</td>\n",
       "    </tr>\n",
       "    <tr>\n",
       "      <th>...</th>\n",
       "      <td>...</td>\n",
       "      <td>...</td>\n",
       "      <td>...</td>\n",
       "      <td>...</td>\n",
       "      <td>...</td>\n",
       "      <td>...</td>\n",
       "      <td>...</td>\n",
       "      <td>...</td>\n",
       "    </tr>\n",
       "    <tr>\n",
       "      <th>995</th>\n",
       "      <td>female</td>\n",
       "      <td>group E</td>\n",
       "      <td>master's degree</td>\n",
       "      <td>standard</td>\n",
       "      <td>completed</td>\n",
       "      <td>88</td>\n",
       "      <td>99</td>\n",
       "      <td>95</td>\n",
       "    </tr>\n",
       "    <tr>\n",
       "      <th>996</th>\n",
       "      <td>male</td>\n",
       "      <td>group C</td>\n",
       "      <td>high school</td>\n",
       "      <td>free/reduced</td>\n",
       "      <td>none</td>\n",
       "      <td>62</td>\n",
       "      <td>55</td>\n",
       "      <td>55</td>\n",
       "    </tr>\n",
       "    <tr>\n",
       "      <th>997</th>\n",
       "      <td>female</td>\n",
       "      <td>group C</td>\n",
       "      <td>high school</td>\n",
       "      <td>free/reduced</td>\n",
       "      <td>completed</td>\n",
       "      <td>59</td>\n",
       "      <td>71</td>\n",
       "      <td>65</td>\n",
       "    </tr>\n",
       "    <tr>\n",
       "      <th>998</th>\n",
       "      <td>female</td>\n",
       "      <td>group D</td>\n",
       "      <td>some college</td>\n",
       "      <td>standard</td>\n",
       "      <td>completed</td>\n",
       "      <td>68</td>\n",
       "      <td>78</td>\n",
       "      <td>77</td>\n",
       "    </tr>\n",
       "    <tr>\n",
       "      <th>999</th>\n",
       "      <td>female</td>\n",
       "      <td>group D</td>\n",
       "      <td>some college</td>\n",
       "      <td>free/reduced</td>\n",
       "      <td>none</td>\n",
       "      <td>77</td>\n",
       "      <td>86</td>\n",
       "      <td>86</td>\n",
       "    </tr>\n",
       "  </tbody>\n",
       "</table>\n",
       "<p>1000 rows × 8 columns</p>\n",
       "</div>"
      ],
      "text/plain": [
       "     gender race/ethnicity parental level of education         lunch  \\\n",
       "0    female        group B           bachelor's degree      standard   \n",
       "1    female        group C                some college      standard   \n",
       "2    female        group B             master's degree      standard   \n",
       "3      male        group A          associate's degree  free/reduced   \n",
       "4      male        group C                some college      standard   \n",
       "..      ...            ...                         ...           ...   \n",
       "995  female        group E             master's degree      standard   \n",
       "996    male        group C                 high school  free/reduced   \n",
       "997  female        group C                 high school  free/reduced   \n",
       "998  female        group D                some college      standard   \n",
       "999  female        group D                some college  free/reduced   \n",
       "\n",
       "    test preparation course  math score  reading score  writing score  \n",
       "0                      none          72             72             74  \n",
       "1                 completed          69             90             88  \n",
       "2                      none          90             95             93  \n",
       "3                      none          47             57             44  \n",
       "4                      none          76             78             75  \n",
       "..                      ...         ...            ...            ...  \n",
       "995               completed          88             99             95  \n",
       "996                    none          62             55             55  \n",
       "997               completed          59             71             65  \n",
       "998               completed          68             78             77  \n",
       "999                    none          77             86             86  \n",
       "\n",
       "[1000 rows x 8 columns]"
      ]
     },
     "execution_count": 2,
     "metadata": {},
     "output_type": "execute_result"
    }
   ],
   "source": [
    "dataset=pd.read_csv(\"StudentsPerformance.csv\")\n",
    "dataset"
   ]
  },
  {
   "cell_type": "raw",
   "metadata": {},
   "source": [
    "Basic statistical details of the dataset:"
   ]
  },
  {
   "cell_type": "code",
   "execution_count": 3,
   "metadata": {},
   "outputs": [
    {
     "data": {
      "text/html": [
       "<div>\n",
       "<style scoped>\n",
       "    .dataframe tbody tr th:only-of-type {\n",
       "        vertical-align: middle;\n",
       "    }\n",
       "\n",
       "    .dataframe tbody tr th {\n",
       "        vertical-align: top;\n",
       "    }\n",
       "\n",
       "    .dataframe thead th {\n",
       "        text-align: right;\n",
       "    }\n",
       "</style>\n",
       "<table border=\"1\" class=\"dataframe\">\n",
       "  <thead>\n",
       "    <tr style=\"text-align: right;\">\n",
       "      <th></th>\n",
       "      <th>math score</th>\n",
       "      <th>reading score</th>\n",
       "      <th>writing score</th>\n",
       "    </tr>\n",
       "  </thead>\n",
       "  <tbody>\n",
       "    <tr>\n",
       "      <th>count</th>\n",
       "      <td>1000.00000</td>\n",
       "      <td>1000.000000</td>\n",
       "      <td>1000.000000</td>\n",
       "    </tr>\n",
       "    <tr>\n",
       "      <th>mean</th>\n",
       "      <td>66.08900</td>\n",
       "      <td>69.169000</td>\n",
       "      <td>68.054000</td>\n",
       "    </tr>\n",
       "    <tr>\n",
       "      <th>std</th>\n",
       "      <td>15.16308</td>\n",
       "      <td>14.600192</td>\n",
       "      <td>15.195657</td>\n",
       "    </tr>\n",
       "    <tr>\n",
       "      <th>min</th>\n",
       "      <td>0.00000</td>\n",
       "      <td>17.000000</td>\n",
       "      <td>10.000000</td>\n",
       "    </tr>\n",
       "    <tr>\n",
       "      <th>25%</th>\n",
       "      <td>57.00000</td>\n",
       "      <td>59.000000</td>\n",
       "      <td>57.750000</td>\n",
       "    </tr>\n",
       "    <tr>\n",
       "      <th>50%</th>\n",
       "      <td>66.00000</td>\n",
       "      <td>70.000000</td>\n",
       "      <td>69.000000</td>\n",
       "    </tr>\n",
       "    <tr>\n",
       "      <th>75%</th>\n",
       "      <td>77.00000</td>\n",
       "      <td>79.000000</td>\n",
       "      <td>79.000000</td>\n",
       "    </tr>\n",
       "    <tr>\n",
       "      <th>max</th>\n",
       "      <td>100.00000</td>\n",
       "      <td>100.000000</td>\n",
       "      <td>100.000000</td>\n",
       "    </tr>\n",
       "  </tbody>\n",
       "</table>\n",
       "</div>"
      ],
      "text/plain": [
       "       math score  reading score  writing score\n",
       "count  1000.00000    1000.000000    1000.000000\n",
       "mean     66.08900      69.169000      68.054000\n",
       "std      15.16308      14.600192      15.195657\n",
       "min       0.00000      17.000000      10.000000\n",
       "25%      57.00000      59.000000      57.750000\n",
       "50%      66.00000      70.000000      69.000000\n",
       "75%      77.00000      79.000000      79.000000\n",
       "max     100.00000     100.000000     100.000000"
      ]
     },
     "execution_count": 3,
     "metadata": {},
     "output_type": "execute_result"
    }
   ],
   "source": [
    "dataset.describe()"
   ]
  },
  {
   "cell_type": "markdown",
   "metadata": {},
   "source": [
    "# Taking care of the missing data"
   ]
  },
  {
   "cell_type": "code",
   "execution_count": 4,
   "metadata": {},
   "outputs": [
    {
     "data": {
      "text/plain": [
       "gender                         False\n",
       "race/ethnicity                 False\n",
       "parental level of education    False\n",
       "lunch                          False\n",
       "test preparation course        False\n",
       "math score                     False\n",
       "reading score                  False\n",
       "writing score                  False\n",
       "dtype: bool"
      ]
     },
     "execution_count": 4,
     "metadata": {},
     "output_type": "execute_result"
    }
   ],
   "source": [
    "dataset.isnull().any()"
   ]
  },
  {
   "cell_type": "raw",
   "metadata": {},
   "source": [
    "We can say that there are no null values in any column."
   ]
  },
  {
   "cell_type": "raw",
   "metadata": {},
   "source": [
    "Knowing the unique observation in every column of the dataset:"
   ]
  },
  {
   "cell_type": "code",
   "execution_count": 5,
   "metadata": {
    "scrolled": true
   },
   "outputs": [
    {
     "name": "stdout",
     "output_type": "stream",
     "text": [
      "gender\n",
      "['female' 'male']\n",
      "----------------------------------------\n",
      "race/ethnicity\n",
      "['group B' 'group C' 'group A' 'group D' 'group E']\n",
      "----------------------------------------\n",
      "parental level of education\n",
      "[\"bachelor's degree\" 'some college' \"master's degree\" \"associate's degree\"\n",
      " 'high school' 'some high school']\n",
      "----------------------------------------\n",
      "lunch\n",
      "['standard' 'free/reduced']\n",
      "----------------------------------------\n",
      "test preparation course\n",
      "['none' 'completed']\n",
      "----------------------------------------\n",
      "math score\n",
      "[ 72  69  90  47  76  71  88  40  64  38  58  65  78  50  18  46  54  66\n",
      "  44  74  73  67  70  62  63  56  97  81  75  57  55  53  59  82  77  33\n",
      "  52   0  79  39  45  60  61  41  49  30  80  42  27  43  68  85  98  87\n",
      "  51  99  84  91  83  89  22 100  96  94  48  35  34  86  92  37  28  24\n",
      "  26  95  36  29  32  93  19  23   8]\n",
      "----------------------------------------\n",
      "reading score\n",
      "[ 72  90  95  57  78  83  43  64  60  54  52  81  53  75  89  32  42  58\n",
      "  69  73  71  74  70  65  87  56  61  84  55  44  41  85  59  17  39  80\n",
      "  37  63  51  49  26  68  45  47  86  34  79  66  67  91 100  76  77  82\n",
      "  92  93  62  88  50  28  48  46  23  38  94  97  99  31  96  24  29  40]\n",
      "----------------------------------------\n",
      "writing score\n",
      "[ 74  88  93  44  75  78  92  39  67  50  52  43  73  70  58  86  28  46\n",
      "  61  63  53  80  72  55  65  38  82  79  83  59  57  54  68  66  62  76\n",
      "  48  42  87  49  10  34  71  37  56  41  22  81  45  36  89  47  90 100\n",
      "  64  98  51  40  84  69  33  60  85  91  77  27  94  95  19  35  32  96\n",
      "  97  99  15  30  23]\n",
      "----------------------------------------\n"
     ]
    }
   ],
   "source": [
    "for i in dataset.columns:\n",
    "    print(i)\n",
    "    print(dataset[i].unique())\n",
    "    print(\"-\"*40)"
   ]
  },
  {
   "cell_type": "markdown",
   "metadata": {},
   "source": [
    "# LABEL ENCODING"
   ]
  },
  {
   "cell_type": "code",
   "execution_count": 6,
   "metadata": {},
   "outputs": [],
   "source": [
    "from sklearn.preprocessing import LabelEncoder"
   ]
  },
  {
   "cell_type": "code",
   "execution_count": 7,
   "metadata": {
    "scrolled": true
   },
   "outputs": [
    {
     "data": {
      "text/html": [
       "<div>\n",
       "<style scoped>\n",
       "    .dataframe tbody tr th:only-of-type {\n",
       "        vertical-align: middle;\n",
       "    }\n",
       "\n",
       "    .dataframe tbody tr th {\n",
       "        vertical-align: top;\n",
       "    }\n",
       "\n",
       "    .dataframe thead th {\n",
       "        text-align: right;\n",
       "    }\n",
       "</style>\n",
       "<table border=\"1\" class=\"dataframe\">\n",
       "  <thead>\n",
       "    <tr style=\"text-align: right;\">\n",
       "      <th></th>\n",
       "      <th>gender</th>\n",
       "      <th>race/ethnicity</th>\n",
       "      <th>parental level of education</th>\n",
       "      <th>lunch</th>\n",
       "      <th>test preparation course</th>\n",
       "      <th>math score</th>\n",
       "      <th>reading score</th>\n",
       "      <th>writing score</th>\n",
       "    </tr>\n",
       "  </thead>\n",
       "  <tbody>\n",
       "    <tr>\n",
       "      <th>0</th>\n",
       "      <td>0</td>\n",
       "      <td>1</td>\n",
       "      <td>1</td>\n",
       "      <td>1</td>\n",
       "      <td>1</td>\n",
       "      <td>72</td>\n",
       "      <td>72</td>\n",
       "      <td>74</td>\n",
       "    </tr>\n",
       "    <tr>\n",
       "      <th>1</th>\n",
       "      <td>0</td>\n",
       "      <td>2</td>\n",
       "      <td>4</td>\n",
       "      <td>1</td>\n",
       "      <td>0</td>\n",
       "      <td>69</td>\n",
       "      <td>90</td>\n",
       "      <td>88</td>\n",
       "    </tr>\n",
       "    <tr>\n",
       "      <th>2</th>\n",
       "      <td>0</td>\n",
       "      <td>1</td>\n",
       "      <td>3</td>\n",
       "      <td>1</td>\n",
       "      <td>1</td>\n",
       "      <td>90</td>\n",
       "      <td>95</td>\n",
       "      <td>93</td>\n",
       "    </tr>\n",
       "    <tr>\n",
       "      <th>3</th>\n",
       "      <td>1</td>\n",
       "      <td>0</td>\n",
       "      <td>0</td>\n",
       "      <td>0</td>\n",
       "      <td>1</td>\n",
       "      <td>47</td>\n",
       "      <td>57</td>\n",
       "      <td>44</td>\n",
       "    </tr>\n",
       "    <tr>\n",
       "      <th>4</th>\n",
       "      <td>1</td>\n",
       "      <td>2</td>\n",
       "      <td>4</td>\n",
       "      <td>1</td>\n",
       "      <td>1</td>\n",
       "      <td>76</td>\n",
       "      <td>78</td>\n",
       "      <td>75</td>\n",
       "    </tr>\n",
       "    <tr>\n",
       "      <th>...</th>\n",
       "      <td>...</td>\n",
       "      <td>...</td>\n",
       "      <td>...</td>\n",
       "      <td>...</td>\n",
       "      <td>...</td>\n",
       "      <td>...</td>\n",
       "      <td>...</td>\n",
       "      <td>...</td>\n",
       "    </tr>\n",
       "    <tr>\n",
       "      <th>995</th>\n",
       "      <td>0</td>\n",
       "      <td>4</td>\n",
       "      <td>3</td>\n",
       "      <td>1</td>\n",
       "      <td>0</td>\n",
       "      <td>88</td>\n",
       "      <td>99</td>\n",
       "      <td>95</td>\n",
       "    </tr>\n",
       "    <tr>\n",
       "      <th>996</th>\n",
       "      <td>1</td>\n",
       "      <td>2</td>\n",
       "      <td>2</td>\n",
       "      <td>0</td>\n",
       "      <td>1</td>\n",
       "      <td>62</td>\n",
       "      <td>55</td>\n",
       "      <td>55</td>\n",
       "    </tr>\n",
       "    <tr>\n",
       "      <th>997</th>\n",
       "      <td>0</td>\n",
       "      <td>2</td>\n",
       "      <td>2</td>\n",
       "      <td>0</td>\n",
       "      <td>0</td>\n",
       "      <td>59</td>\n",
       "      <td>71</td>\n",
       "      <td>65</td>\n",
       "    </tr>\n",
       "    <tr>\n",
       "      <th>998</th>\n",
       "      <td>0</td>\n",
       "      <td>3</td>\n",
       "      <td>4</td>\n",
       "      <td>1</td>\n",
       "      <td>0</td>\n",
       "      <td>68</td>\n",
       "      <td>78</td>\n",
       "      <td>77</td>\n",
       "    </tr>\n",
       "    <tr>\n",
       "      <th>999</th>\n",
       "      <td>0</td>\n",
       "      <td>3</td>\n",
       "      <td>4</td>\n",
       "      <td>0</td>\n",
       "      <td>1</td>\n",
       "      <td>77</td>\n",
       "      <td>86</td>\n",
       "      <td>86</td>\n",
       "    </tr>\n",
       "  </tbody>\n",
       "</table>\n",
       "<p>1000 rows × 8 columns</p>\n",
       "</div>"
      ],
      "text/plain": [
       "     gender  race/ethnicity  parental level of education  lunch  \\\n",
       "0         0               1                            1      1   \n",
       "1         0               2                            4      1   \n",
       "2         0               1                            3      1   \n",
       "3         1               0                            0      0   \n",
       "4         1               2                            4      1   \n",
       "..      ...             ...                          ...    ...   \n",
       "995       0               4                            3      1   \n",
       "996       1               2                            2      0   \n",
       "997       0               2                            2      0   \n",
       "998       0               3                            4      1   \n",
       "999       0               3                            4      0   \n",
       "\n",
       "     test preparation course  math score  reading score  writing score  \n",
       "0                          1          72             72             74  \n",
       "1                          0          69             90             88  \n",
       "2                          1          90             95             93  \n",
       "3                          1          47             57             44  \n",
       "4                          1          76             78             75  \n",
       "..                       ...         ...            ...            ...  \n",
       "995                        0          88             99             95  \n",
       "996                        1          62             55             55  \n",
       "997                        0          59             71             65  \n",
       "998                        0          68             78             77  \n",
       "999                        1          77             86             86  \n",
       "\n",
       "[1000 rows x 8 columns]"
      ]
     },
     "execution_count": 7,
     "metadata": {},
     "output_type": "execute_result"
    }
   ],
   "source": [
    "le=LabelEncoder()\n",
    "dataset['gender'] = le.fit_transform(dataset['gender'])\n",
    "dataset['race/ethnicity'] = le.fit_transform(dataset['race/ethnicity'])\n",
    "dataset['parental level of education'] = le.fit_transform(dataset['parental level of education'])\n",
    "dataset['lunch'] = le.fit_transform(dataset['lunch'])\n",
    "dataset['test preparation course'] = le.fit_transform(dataset['test preparation course'])\n",
    "dataset"
   ]
  },
  {
   "cell_type": "raw",
   "metadata": {},
   "source": [
    " Values in the categorical columns like gender,race/ethnicity,parental level of education,lunch,test preparation course are encoded."
   ]
  },
  {
   "cell_type": "markdown",
   "metadata": {},
   "source": [
    "# Data Visualisation"
   ]
  },
  {
   "cell_type": "raw",
   "metadata": {},
   "source": [
    "Mean score is taken to simplify the visualisation between the variables."
   ]
  },
  {
   "cell_type": "code",
   "execution_count": 8,
   "metadata": {},
   "outputs": [
    {
     "data": {
      "text/html": [
       "<div>\n",
       "<style scoped>\n",
       "    .dataframe tbody tr th:only-of-type {\n",
       "        vertical-align: middle;\n",
       "    }\n",
       "\n",
       "    .dataframe tbody tr th {\n",
       "        vertical-align: top;\n",
       "    }\n",
       "\n",
       "    .dataframe thead th {\n",
       "        text-align: right;\n",
       "    }\n",
       "</style>\n",
       "<table border=\"1\" class=\"dataframe\">\n",
       "  <thead>\n",
       "    <tr style=\"text-align: right;\">\n",
       "      <th></th>\n",
       "      <th>gender</th>\n",
       "      <th>race/ethnicity</th>\n",
       "      <th>parental level of education</th>\n",
       "      <th>lunch</th>\n",
       "      <th>test preparation course</th>\n",
       "      <th>math score</th>\n",
       "      <th>reading score</th>\n",
       "      <th>writing score</th>\n",
       "      <th>mean score</th>\n",
       "    </tr>\n",
       "  </thead>\n",
       "  <tbody>\n",
       "    <tr>\n",
       "      <th>0</th>\n",
       "      <td>0</td>\n",
       "      <td>1</td>\n",
       "      <td>1</td>\n",
       "      <td>1</td>\n",
       "      <td>1</td>\n",
       "      <td>72</td>\n",
       "      <td>72</td>\n",
       "      <td>74</td>\n",
       "      <td>73.0</td>\n",
       "    </tr>\n",
       "    <tr>\n",
       "      <th>1</th>\n",
       "      <td>0</td>\n",
       "      <td>2</td>\n",
       "      <td>4</td>\n",
       "      <td>1</td>\n",
       "      <td>0</td>\n",
       "      <td>69</td>\n",
       "      <td>90</td>\n",
       "      <td>88</td>\n",
       "      <td>82.0</td>\n",
       "    </tr>\n",
       "    <tr>\n",
       "      <th>2</th>\n",
       "      <td>0</td>\n",
       "      <td>1</td>\n",
       "      <td>3</td>\n",
       "      <td>1</td>\n",
       "      <td>1</td>\n",
       "      <td>90</td>\n",
       "      <td>95</td>\n",
       "      <td>93</td>\n",
       "      <td>93.0</td>\n",
       "    </tr>\n",
       "    <tr>\n",
       "      <th>3</th>\n",
       "      <td>1</td>\n",
       "      <td>0</td>\n",
       "      <td>0</td>\n",
       "      <td>0</td>\n",
       "      <td>1</td>\n",
       "      <td>47</td>\n",
       "      <td>57</td>\n",
       "      <td>44</td>\n",
       "      <td>49.0</td>\n",
       "    </tr>\n",
       "    <tr>\n",
       "      <th>4</th>\n",
       "      <td>1</td>\n",
       "      <td>2</td>\n",
       "      <td>4</td>\n",
       "      <td>1</td>\n",
       "      <td>1</td>\n",
       "      <td>76</td>\n",
       "      <td>78</td>\n",
       "      <td>75</td>\n",
       "      <td>76.0</td>\n",
       "    </tr>\n",
       "    <tr>\n",
       "      <th>...</th>\n",
       "      <td>...</td>\n",
       "      <td>...</td>\n",
       "      <td>...</td>\n",
       "      <td>...</td>\n",
       "      <td>...</td>\n",
       "      <td>...</td>\n",
       "      <td>...</td>\n",
       "      <td>...</td>\n",
       "      <td>...</td>\n",
       "    </tr>\n",
       "    <tr>\n",
       "      <th>995</th>\n",
       "      <td>0</td>\n",
       "      <td>4</td>\n",
       "      <td>3</td>\n",
       "      <td>1</td>\n",
       "      <td>0</td>\n",
       "      <td>88</td>\n",
       "      <td>99</td>\n",
       "      <td>95</td>\n",
       "      <td>94.0</td>\n",
       "    </tr>\n",
       "    <tr>\n",
       "      <th>996</th>\n",
       "      <td>1</td>\n",
       "      <td>2</td>\n",
       "      <td>2</td>\n",
       "      <td>0</td>\n",
       "      <td>1</td>\n",
       "      <td>62</td>\n",
       "      <td>55</td>\n",
       "      <td>55</td>\n",
       "      <td>57.0</td>\n",
       "    </tr>\n",
       "    <tr>\n",
       "      <th>997</th>\n",
       "      <td>0</td>\n",
       "      <td>2</td>\n",
       "      <td>2</td>\n",
       "      <td>0</td>\n",
       "      <td>0</td>\n",
       "      <td>59</td>\n",
       "      <td>71</td>\n",
       "      <td>65</td>\n",
       "      <td>65.0</td>\n",
       "    </tr>\n",
       "    <tr>\n",
       "      <th>998</th>\n",
       "      <td>0</td>\n",
       "      <td>3</td>\n",
       "      <td>4</td>\n",
       "      <td>1</td>\n",
       "      <td>0</td>\n",
       "      <td>68</td>\n",
       "      <td>78</td>\n",
       "      <td>77</td>\n",
       "      <td>74.0</td>\n",
       "    </tr>\n",
       "    <tr>\n",
       "      <th>999</th>\n",
       "      <td>0</td>\n",
       "      <td>3</td>\n",
       "      <td>4</td>\n",
       "      <td>0</td>\n",
       "      <td>1</td>\n",
       "      <td>77</td>\n",
       "      <td>86</td>\n",
       "      <td>86</td>\n",
       "      <td>83.0</td>\n",
       "    </tr>\n",
       "  </tbody>\n",
       "</table>\n",
       "<p>1000 rows × 9 columns</p>\n",
       "</div>"
      ],
      "text/plain": [
       "     gender  race/ethnicity  parental level of education  lunch  \\\n",
       "0         0               1                            1      1   \n",
       "1         0               2                            4      1   \n",
       "2         0               1                            3      1   \n",
       "3         1               0                            0      0   \n",
       "4         1               2                            4      1   \n",
       "..      ...             ...                          ...    ...   \n",
       "995       0               4                            3      1   \n",
       "996       1               2                            2      0   \n",
       "997       0               2                            2      0   \n",
       "998       0               3                            4      1   \n",
       "999       0               3                            4      0   \n",
       "\n",
       "     test preparation course  math score  reading score  writing score  \\\n",
       "0                          1          72             72             74   \n",
       "1                          0          69             90             88   \n",
       "2                          1          90             95             93   \n",
       "3                          1          47             57             44   \n",
       "4                          1          76             78             75   \n",
       "..                       ...         ...            ...            ...   \n",
       "995                        0          88             99             95   \n",
       "996                        1          62             55             55   \n",
       "997                        0          59             71             65   \n",
       "998                        0          68             78             77   \n",
       "999                        1          77             86             86   \n",
       "\n",
       "     mean score  \n",
       "0          73.0  \n",
       "1          82.0  \n",
       "2          93.0  \n",
       "3          49.0  \n",
       "4          76.0  \n",
       "..          ...  \n",
       "995        94.0  \n",
       "996        57.0  \n",
       "997        65.0  \n",
       "998        74.0  \n",
       "999        83.0  \n",
       "\n",
       "[1000 rows x 9 columns]"
      ]
     },
     "execution_count": 8,
     "metadata": {},
     "output_type": "execute_result"
    }
   ],
   "source": [
    "dataset['mean score']=((dataset[\"math score\"]+dataset[\"reading score\"]+dataset[\"writing score\"])/3).round()\n",
    "dataset"
   ]
  },
  {
   "cell_type": "raw",
   "metadata": {},
   "source": [
    "Relation between Gender and Mean score\n",
    "Gender:\n",
    "0-female\n",
    "1-male"
   ]
  },
  {
   "cell_type": "code",
   "execution_count": 9,
   "metadata": {
    "scrolled": true
   },
   "outputs": [
    {
     "data": {
      "text/plain": [
       "<matplotlib.axes._subplots.AxesSubplot at 0x20d177aa4c0>"
      ]
     },
     "execution_count": 9,
     "metadata": {},
     "output_type": "execute_result"
    },
    {
     "data": {
      "image/png": "[encoded data removed]",
      "text/plain": [
       "<Figure size 432x288 with 1 Axes>"
      ]
     },
     "metadata": {
      "needs_background": "light"
     },
     "output_type": "display_data"
    }
   ],
   "source": [
    "sns.barplot(x=dataset['gender'],y=dataset['mean score'])"
   ]
  },
  {
   "cell_type": "raw",
   "metadata": {},
   "source": [
    "The mean scores of boys and girls is almost equal."
   ]
  },
  {
   "cell_type": "raw",
   "metadata": {},
   "source": [
    "Relation between Lunch and the mean score:\n",
    "0-free/reduced\n",
    "1-standard    "
   ]
  },
  {
   "cell_type": "code",
   "execution_count": 10,
   "metadata": {},
   "outputs": [
    {
     "data": {
      "text/plain": [
       "<matplotlib.axes._subplots.AxesSubplot at 0x20d17f0e580>"
      ]
     },
     "execution_count": 10,
     "metadata": {},
     "output_type": "execute_result"
    },
    {
     "data": {
      "image/png": "[encoded data removed]",
      "text/plain": [
       "<Figure size 432x288 with 1 Axes>"
      ]
     },
     "metadata": {
      "needs_background": "light"
     },
     "output_type": "display_data"
    }
   ],
   "source": [
    "sns.barplot(x = dataset['lunch'], y = dataset['mean score'])"
   ]
  },
  {
   "cell_type": "raw",
   "metadata": {},
   "source": [
    "We can observe that there is very slight difference between mean scores of students of two different lunch programs."
   ]
  },
  {
   "cell_type": "raw",
   "metadata": {},
   "source": [
    "Relation between the mean score and test preparation course:\n",
    "Test preparation course:\n",
    "0-completed\n",
    "1-none    "
   ]
  },
  {
   "cell_type": "code",
   "execution_count": 11,
   "metadata": {},
   "outputs": [
    {
     "data": {
      "image/png": "[encoded data removed]",
      "text/plain": [
       "<Figure size 432x288 with 1 Axes>"
      ]
     },
     "metadata": {
      "needs_background": "light"
     },
     "output_type": "display_data"
    }
   ],
   "source": [
    "sns.barplot(x = 'test preparation course', y = 'mean score', data = dataset)\n",
    "plt.show()"
   ]
  },
  {
   "cell_type": "raw",
   "metadata": {},
   "source": [
    "We can observe that those who have taken test preparation course scored more mean score compared to those who have not taken."
   ]
  },
  {
   "cell_type": "raw",
   "metadata": {},
   "source": [
    "Relation between Parental level of education and mean score of the students:\n",
    "0-assosciate's degree\n",
    "1-bachelor's degree\n",
    "2-high school\n",
    "3-master's degree\n",
    "4-some college\n",
    "5-some high school\n",
    "high school < some high school < some college < assosciate's degree < bachelor's degree < master's degree"
   ]
  },
  {
   "cell_type": "code",
   "execution_count": 12,
   "metadata": {},
   "outputs": [
    {
     "data": {
      "text/plain": [
       "<matplotlib.axes._subplots.AxesSubplot at 0x20d17fc85e0>"
      ]
     },
     "execution_count": 12,
     "metadata": {},
     "output_type": "execute_result"
    },
    {
     "data": {
      "image/png": "[encoded data removed]",
      "text/plain": [
       "<Figure size 432x288 with 1 Axes>"
      ]
     },
     "metadata": {
      "needs_background": "light"
     },
     "output_type": "display_data"
    }
   ],
   "source": [
    "sns.barplot(x = 'parental level of education', y = 'mean score', data = dataset)"
   ]
  },
  {
   "cell_type": "raw",
   "metadata": {},
   "source": [
    "From the barplot mean score of the students is directly proportional to parental level of education,\n",
    "Higher the parental level of education higher the mean score of the student."
   ]
  },
  {
   "cell_type": "raw",
   "metadata": {},
   "source": [
    "Relation between race/ethnicity of the student and their mean score:\n",
    "0-Group A\n",
    "1-Group B\n",
    "2-Group C\n",
    "3-Group D\n",
    "4-Group E"
   ]
  },
  {
   "cell_type": "code",
   "execution_count": 13,
   "metadata": {
    "scrolled": false
   },
   "outputs": [
    {
     "data": {
      "text/plain": [
       "<matplotlib.axes._subplots.AxesSubplot at 0x20d1803eca0>"
      ]
     },
     "execution_count": 13,
     "metadata": {},
     "output_type": "execute_result"
    },
    {
     "data": {
      "image/png": "[encoded data removed]",
      "text/plain": [
       "<Figure size 432x288 with 1 Axes>"
      ]
     },
     "metadata": {
      "needs_background": "light"
     },
     "output_type": "display_data"
    }
   ],
   "source": [
    "sns.barplot(x = 'race/ethnicity', y = 'mean score', data = dataset)"
   ]
  },
  {
   "cell_type": "markdown",
   "metadata": {},
   "source": [
    "# Data Preprocessing"
   ]
  },
  {
   "cell_type": "code",
   "execution_count": 14,
   "metadata": {},
   "outputs": [
    {
     "data": {
      "text/html": [
       "<div>\n",
       "<style scoped>\n",
       "    .dataframe tbody tr th:only-of-type {\n",
       "        vertical-align: middle;\n",
       "    }\n",
       "\n",
       "    .dataframe tbody tr th {\n",
       "        vertical-align: top;\n",
       "    }\n",
       "\n",
       "    .dataframe thead th {\n",
       "        text-align: right;\n",
       "    }\n",
       "</style>\n",
       "<table border=\"1\" class=\"dataframe\">\n",
       "  <thead>\n",
       "    <tr style=\"text-align: right;\">\n",
       "      <th></th>\n",
       "      <th>gender</th>\n",
       "      <th>race/ethnicity</th>\n",
       "      <th>parental level of education</th>\n",
       "      <th>lunch</th>\n",
       "      <th>test preparation course</th>\n",
       "      <th>mean score</th>\n",
       "    </tr>\n",
       "  </thead>\n",
       "  <tbody>\n",
       "    <tr>\n",
       "      <th>0</th>\n",
       "      <td>0</td>\n",
       "      <td>1</td>\n",
       "      <td>1</td>\n",
       "      <td>1</td>\n",
       "      <td>1</td>\n",
       "      <td>73.0</td>\n",
       "    </tr>\n",
       "    <tr>\n",
       "      <th>1</th>\n",
       "      <td>0</td>\n",
       "      <td>2</td>\n",
       "      <td>4</td>\n",
       "      <td>1</td>\n",
       "      <td>0</td>\n",
       "      <td>82.0</td>\n",
       "    </tr>\n",
       "    <tr>\n",
       "      <th>2</th>\n",
       "      <td>0</td>\n",
       "      <td>1</td>\n",
       "      <td>3</td>\n",
       "      <td>1</td>\n",
       "      <td>1</td>\n",
       "      <td>93.0</td>\n",
       "    </tr>\n",
       "    <tr>\n",
       "      <th>3</th>\n",
       "      <td>1</td>\n",
       "      <td>0</td>\n",
       "      <td>0</td>\n",
       "      <td>0</td>\n",
       "      <td>1</td>\n",
       "      <td>49.0</td>\n",
       "    </tr>\n",
       "    <tr>\n",
       "      <th>4</th>\n",
       "      <td>1</td>\n",
       "      <td>2</td>\n",
       "      <td>4</td>\n",
       "      <td>1</td>\n",
       "      <td>1</td>\n",
       "      <td>76.0</td>\n",
       "    </tr>\n",
       "    <tr>\n",
       "      <th>...</th>\n",
       "      <td>...</td>\n",
       "      <td>...</td>\n",
       "      <td>...</td>\n",
       "      <td>...</td>\n",
       "      <td>...</td>\n",
       "      <td>...</td>\n",
       "    </tr>\n",
       "    <tr>\n",
       "      <th>995</th>\n",
       "      <td>0</td>\n",
       "      <td>4</td>\n",
       "      <td>3</td>\n",
       "      <td>1</td>\n",
       "      <td>0</td>\n",
       "      <td>94.0</td>\n",
       "    </tr>\n",
       "    <tr>\n",
       "      <th>996</th>\n",
       "      <td>1</td>\n",
       "      <td>2</td>\n",
       "      <td>2</td>\n",
       "      <td>0</td>\n",
       "      <td>1</td>\n",
       "      <td>57.0</td>\n",
       "    </tr>\n",
       "    <tr>\n",
       "      <th>997</th>\n",
       "      <td>0</td>\n",
       "      <td>2</td>\n",
       "      <td>2</td>\n",
       "      <td>0</td>\n",
       "      <td>0</td>\n",
       "      <td>65.0</td>\n",
       "    </tr>\n",
       "    <tr>\n",
       "      <th>998</th>\n",
       "      <td>0</td>\n",
       "      <td>3</td>\n",
       "      <td>4</td>\n",
       "      <td>1</td>\n",
       "      <td>0</td>\n",
       "      <td>74.0</td>\n",
       "    </tr>\n",
       "    <tr>\n",
       "      <th>999</th>\n",
       "      <td>0</td>\n",
       "      <td>3</td>\n",
       "      <td>4</td>\n",
       "      <td>0</td>\n",
       "      <td>1</td>\n",
       "      <td>83.0</td>\n",
       "    </tr>\n",
       "  </tbody>\n",
       "</table>\n",
       "<p>1000 rows × 6 columns</p>\n",
       "</div>"
      ],
      "text/plain": [
       "     gender  race/ethnicity  parental level of education  lunch  \\\n",
       "0         0               1                            1      1   \n",
       "1         0               2                            4      1   \n",
       "2         0               1                            3      1   \n",
       "3         1               0                            0      0   \n",
       "4         1               2                            4      1   \n",
       "..      ...             ...                          ...    ...   \n",
       "995       0               4                            3      1   \n",
       "996       1               2                            2      0   \n",
       "997       0               2                            2      0   \n",
       "998       0               3                            4      1   \n",
       "999       0               3                            4      0   \n",
       "\n",
       "     test preparation course  mean score  \n",
       "0                          1        73.0  \n",
       "1                          0        82.0  \n",
       "2                          1        93.0  \n",
       "3                          1        49.0  \n",
       "4                          1        76.0  \n",
       "..                       ...         ...  \n",
       "995                        0        94.0  \n",
       "996                        1        57.0  \n",
       "997                        0        65.0  \n",
       "998                        0        74.0  \n",
       "999                        1        83.0  \n",
       "\n",
       "[1000 rows x 6 columns]"
      ]
     },
     "execution_count": 14,
     "metadata": {},
     "output_type": "execute_result"
    }
   ],
   "source": [
    "dataset=dataset.drop(['math score','reading score','writing score'],axis=1)\n",
    "dataset"
   ]
  },
  {
   "cell_type": "markdown",
   "metadata": {},
   "source": [
    "# Separating dependent and independent variables"
   ]
  },
  {
   "cell_type": "code",
   "execution_count": 15,
   "metadata": {
    "scrolled": false
   },
   "outputs": [
    {
     "data": {
      "text/plain": [
       "array([[0, 1, 1, 1, 1],\n",
       "       [0, 2, 4, 1, 0],\n",
       "       [0, 1, 3, 1, 1],\n",
       "       ...,\n",
       "       [0, 2, 2, 0, 0],\n",
       "       [0, 3, 4, 1, 0],\n",
       "       [0, 3, 4, 0, 1]])"
      ]
     },
     "execution_count": 15,
     "metadata": {},
     "output_type": "execute_result"
    }
   ],
   "source": [
    "x=dataset.iloc[:,0:5].values\n",
    "x"
   ]
  },
  {
   "cell_type": "code",
   "execution_count": 16,
   "metadata": {},
   "outputs": [
    {
     "data": {
      "text/plain": [
       "(1000, 5)"
      ]
     },
     "execution_count": 16,
     "metadata": {},
     "output_type": "execute_result"
    }
   ],
   "source": [
    "x.shape"
   ]
  },
  {
   "cell_type": "code",
   "execution_count": 17,
   "metadata": {
    "scrolled": true
   },
   "outputs": [
    {
     "data": {
      "text/plain": [
       "array([ 73.,  82.,  93.,  49.,  76.,  77.,  92.,  41.,  65.,  49.,  55.,\n",
       "        45.,  73.,  73.,  54.,  74.,  88.,  26.,  45.,  58.,  66.,  70.,\n",
       "        50.,  72.,  75.,  73.,  59.,  70.,  68.,  69.,  72.,  63.,  64.,\n",
       "        40.,  89.,  80.,  79.,  58.,  84.,  57.,  57.,  66.,  59.,  63.,\n",
       "        53.,  59.,  61.,  71.,  69.,  83.,  52.,  71.,  46.,  80.,  81.,\n",
       "        39.,  84.,  52.,  58.,   9.,  75.,  37.,  59.,  73.,  59.,  64.,\n",
       "        40.,  69.,  58.,  53.,  65.,  60.,  47.,  58.,  46.,  41.,  26.,\n",
       "        80.,  69.,  66.,  49.,  46.,  50.,  66.,  38.,  78.,  82.,  72.,\n",
       "        65.,  80.,  70.,  32.,  74.,  46.,  86.,  80.,  64.,  68.,  62.,\n",
       "        65.,  71.,  72.,  88.,  50.,  91.,  66.,  96.,  64.,  66.,  69.,\n",
       "        88.,  55.,  51.,  54., 100.,  78.,  81.,  80.,  58.,  63.,  87.,\n",
       "        91.,  91.,  59.,  79.,  89.,  69.,  72.,  79.,  50.,  85.,  43.,\n",
       "        77.,  80.,  76.,  54.,  49.,  60.,  64.,  67.,  73.,  62.,  50.,\n",
       "        49.,  80.,  31.,  82.,  69.,  75.,  98.,  66.,  71.,  65.,  50.,\n",
       "        63.,  82.,  73.,  60.,  78.,  64.,  78.,  83.,  51.,  51.,  88.,\n",
       "        99.,  52.,  71.,  76.,  71.,  73.,  87.,  82.,  67.,  49.,  86.,\n",
       "        53.,  75.,  61.,  99.,  68.,  59.,  49.,  68.,  49.,  66.,  74.,\n",
       "        65.,  48.,  84.,  67.,  79.,  64.,  67.,  79.,  56.,  64.,  54.,\n",
       "        51.,  78.,  79.,  74.,  72.,  65.,  47.,  74.,  69.,  79.,  77.,\n",
       "        62.,  79.,  30.,  55.,  56.,  86.,  81.,  86.,  38.,  71.,  58.,\n",
       "        66.,  82.,  61.,  80.,  64.,  52.,  72.,  54.,  68.,  92.,  69.,\n",
       "        44.,  79.,  86.,  83.,  77.,  65.,  66.,  52.,  81.,  69.,  82.,\n",
       "        54.,  51.,  73.,  77.,  80.,  65.,  64.,  60.,  48.,  79.,  67.,\n",
       "        77.,  53.,  68.,  68.,  77.,  74.,  76.,  73.,  79.,  48.,  94.,\n",
       "        72.,  47.,  73.,  73.,  92.,  72.,  64.,  50.,  53.,  69.,  83.,\n",
       "        78.,  90.,  66.,  77.,  62.,  49.,  46.,  79.,  75.,  43.,  82.,\n",
       "        89.,  79.,  80.,  77.,  71.,  76.,  60.,  71.,  78.,  63.,  43.,\n",
       "        71.,  45.,  84.,  80.,  54.,  77.,  73.,  77.,  68.,  89.,  49.,\n",
       "        64.,  53.,  76.,  61.,  65.,  68.,  66.,  67.,  83.,  78.,  68.,\n",
       "        61.,  77.,  80.,  77.,  50.,  43.,  89.,  61.,  23.,  78.,  49.,\n",
       "        64.,  40.,  57.,  83.,  90.,  65.,  72.,  48.,  30.,  50.,  57.,\n",
       "        66.,  73.,  69.,  73.,  76.,  60.,  89.,  72.,  79.,  62.,  58.,\n",
       "        74.,  54.,  67.,  68.,  62.,  59.,  61.,  86.,  60.,  82.,  56.,\n",
       "        31.,  59.,  56.,  60.,  63.,  55.,  81.,  77.,  63.,  73.,  92.,\n",
       "        67.,  43.,  84.,  93.,  77.,  64.,  83.,  94.,  77.,  44.,  41.,\n",
       "        73.,  69.,  67.,  63.,  73.,  66.,  74.,  70.,  56.,  72.,  45.,\n",
       "        60.,  90.,  65.,  58.,  60.,  46.,  56.,  96.,  58.,  68.,  64.,\n",
       "        80.,  55.,  85.,  72.,  82.,  66.,  66.,  67.,  75.,  71.,  71.,\n",
       "        63.,  56.,  89.,  60.,  57.,  75.,  38.,  64.,  85.,  68.,  59.,\n",
       "        62.,  63.,  68.,  57.,  52.,  68.,  50.,  69.,  71.,  59.,  86.,\n",
       "        76.,  80.,  67.,  77.,  78.,  73.,  65.,  82.,  45.,  75.,  78.,\n",
       "        96.,  72.,  57.,  59.,  47.,  86.,  52., 100.,  68.,  55.,  51.,\n",
       "        72.,  86.,  65.,  87.,  32.,  68.,  83.,  80.,  86.,  69.,  79.,\n",
       "        62.,  90.,  77.,  68.,  73.,  63.,  71.,  71.,  56.,  66.,  52.,\n",
       "        52.,  72.,  55.,  70.,  58.,  81.,  75.,  66.,  85.,  86.,  62.,\n",
       "        66.,  51.,  71.,  68.,  73.,  78.,  91.,  59.,  92.,  51.,  81.,\n",
       "        68.,  56.,  78.,  88.,  73.,  52.,  54.,  59.,  89.,  83.,  82.,\n",
       "        71.,  74.,  75.,  57.,  87.,  61.,  54.,  51.,  62.,  59.,  44.,\n",
       "        39.,  69.,  69.,  51.,  60.,  87.,  70.,  77.,  56.,  60.,  74.,\n",
       "        92.,  71.,  80.,  79.,  89.,  64.,  80.,  96.,  68.,  64.,  73.,\n",
       "        73.,  88.,  46.,  68.,  46.,  35.,  69.,  65.,  64.,  67.,  76.,\n",
       "        70.,  93.,  74.,  48.,  45.,  97.,  70.,  53.,  68.,  72.,  93.,\n",
       "        57.,  60.,  75.,  49.,  55.,  87.,  54.,  61.,  91.,  79.,  71.,\n",
       "        76.,  74.,  72.,  67.,  56.,  61.,  60.,  56.,  61.,  67.,  74.,\n",
       "        97.,  69.,  23.,  52.,  73.,  76.,  59.,  29.,  78.,  56.,  88.,\n",
       "        70.,  84.,  51.,  62.,  62.,  64.,  61.,  92.,  72.,  89.,  67.,\n",
       "        40.,  83.,  87.,  69.,  50.,  60.,  54.,  94.,  60.,  99.,  67.,\n",
       "        52.,  51.,  50.,  67.,  68.,  74.,  83.,  83.,  70.,  76.,  87.,\n",
       "        79.,  74.,  48.,  84.,  77.,  78.,  65.,  76.,  65.,  65.,  53.,\n",
       "        76.,  53.,  75.,  90.,  70.,  77.,  65.,  69.,  65.,  54.,  87.,\n",
       "        75.,  67.,  65.,  67.,  69.,  57.,  69.,  83.,  69.,  77.,  70.,\n",
       "        53.,  74.,  78.,  75.,  60.,  76.,  76.,  78.,  61.,  71.,  63.,\n",
       "        57.,  38.,  65.,  98.,  76.,  76.,  52.,  89.,  52.,  76.,  74.,\n",
       "        76.,  56.,  85.,  82.,  67.,  71.,  64.,  81.,  65.,  86.,  65.,\n",
       "        62.,  66.,  39.,  59.,  85.,  54.,  89.,  83.,  99.,  82.,  68.,\n",
       "        86.,  74.,  97.,  75.,  81.,  68.,  58.,  84.,  47.,  44.,  75.,\n",
       "        72.,  59.,  83.,  43.,  75.,  48.,  90.,  49.,  56.,  61.,  85.,\n",
       "        64.,  75.,  59.,  75.,  50.,  82.,  68.,  52.,  75.,  72.,  67.,\n",
       "        56.,  86.,  69.,  68.,  77.,  84.,  55.,  90.,  55.,  70.,  59.,\n",
       "        74.,  63.,  53.,  82.,  62.,  61.,  73.,  70.,  66.,  71.,  58.,\n",
       "        50.,  74.,  64.,  73.,  64.,  54.,  69.,  41.,  78.,  87.,  53.,\n",
       "        84.,  81.,  58.,  84.,  42.,  76.,  30.,  65.,  59.,  57.,  65.,\n",
       "        70.,  83.,  48.,  66.,  70.,  78.,  61.,  55.,  69.,  76.,  92.,\n",
       "        85.,  76.,  77.,  71.,  42.,  78.,  55.,  39.,  47.,  62.,  82.,\n",
       "        78.,  89.,  56.,  69.,  67.,  85.,  89.,  87.,  51.,  80.,  53.,\n",
       "        62.,  65.,  70.,  79.,  58.,  59.,  83.,  61.,  83.,  51.,  66.,\n",
       "        65.,  79.,  56.,  72.,  46.,  58.,  34.,  76.,  56.,  86.,  87.,\n",
       "        56.,  66.,  75.,  68.,  64.,  88.,  70.,  60.,  97.,  69.,  75.,\n",
       "        49.,  77.,  56.,  85.,  40.,  74.,  94.,  84.,  55.,  48.,  75.,\n",
       "        50.,  55.,  73.,  81.,  87.,  55.,  70.,  82.,  57.,  70.,  71.,\n",
       "        64.,  70.,  69.,  48.,  52.,  73.,  96.,  62.,  69.,  48.,  87.,\n",
       "        87.,  63.,  79.,  63.,  35.,  31.,  73.,  61.,  75.,  86.,  75.,\n",
       "        41.,  98.,  78.,  81.,  52.,  85.,  71.,  68.,  47.,  78.,  60.,\n",
       "        58.,  54.,  68., 100.,  52.,  71.,  93.,  69.,  45.,  68.,  61.,\n",
       "        71.,  66.,  57.,  66.,  44.,  52.,  70.,  60.,  68.,  73.,  92.,\n",
       "        64.,  59.,  57.,  84.,  71.,  70.,  88.,  70.,  61.,  62.,  58.,\n",
       "        81.,  56.,  50.,  68.,  79.,  78.,  73.,  55.,  67.,  64.,  84.,\n",
       "        97.,  56.,  76.,  59.,  52., 100.,  72.,  62.,  68.,  66.,  62.,\n",
       "        70.,  80.,  96.,  73.,  54.,  58.,  61.,  74.,  61.,  62.,  48.,\n",
       "        93.,  18.,  79.,  83.,  85.,  77.,  54.,  50.,  77.,  45.,  79.,\n",
       "        81.,  75.,  69.,  69.,  63.,  94.,  57.,  65.,  74.,  83.])"
      ]
     },
     "execution_count": 17,
     "metadata": {},
     "output_type": "execute_result"
    }
   ],
   "source": [
    "y=dataset.iloc[:,-1].values\n",
    "y"
   ]
  },
  {
   "cell_type": "code",
   "execution_count": 18,
   "metadata": {},
   "outputs": [
    {
     "data": {
      "text/plain": [
       "(1000,)"
      ]
     },
     "execution_count": 18,
     "metadata": {},
     "output_type": "execute_result"
    }
   ],
   "source": [
    "y.shape"
   ]
  },
  {
   "cell_type": "markdown",
   "metadata": {},
   "source": [
    "# Splitting data into train and test"
   ]
  },
  {
   "cell_type": "code",
   "execution_count": 19,
   "metadata": {},
   "outputs": [],
   "source": [
    "from sklearn.model_selection import train_test_split"
   ]
  },
  {
   "cell_type": "code",
   "execution_count": 20,
   "metadata": {},
   "outputs": [],
   "source": [
    "x_train,x_test,y_train,y_test=train_test_split(x,y,test_size=0.2,random_state=0)"
   ]
  },
  {
   "cell_type": "code",
   "execution_count": 21,
   "metadata": {},
   "outputs": [
    {
     "data": {
      "text/plain": [
       "(800, 5)"
      ]
     },
     "execution_count": 21,
     "metadata": {},
     "output_type": "execute_result"
    }
   ],
   "source": [
    "x_train.shape"
   ]
  },
  {
   "cell_type": "code",
   "execution_count": 22,
   "metadata": {},
   "outputs": [
    {
     "data": {
      "text/plain": [
       "array([[0, 3, 1, 0, 1],\n",
       "       [1, 2, 0, 0, 1],\n",
       "       [1, 2, 2, 0, 0],\n",
       "       [1, 3, 4, 0, 1],\n",
       "       [0, 2, 4, 1, 1],\n",
       "       [1, 2, 5, 1, 0],\n",
       "       [0, 2, 1, 1, 1],\n",
       "       [1, 2, 0, 1, 1],\n",
       "       [1, 4, 4, 1, 0],\n",
       "       [1, 3, 2, 1, 1],\n",
       "       [0, 2, 4, 1, 1],\n",
       "       [0, 1, 0, 0, 1],\n",
       "       [1, 2, 1, 1, 0],\n",
       "       [1, 2, 0, 1, 1],\n",
       "       [0, 1, 4, 0, 0],\n",
       "       [0, 2, 2, 0, 1],\n",
       "       [1, 1, 2, 1, 1],\n",
       "       [0, 2, 3, 1, 0],\n",
       "       [0, 0, 3, 1, 1],\n",
       "       [1, 0, 1, 1, 0],\n",
       "       [0, 1, 4, 1, 1],\n",
       "       [0, 3, 0, 0, 1],\n",
       "       [0, 1, 0, 1, 1],\n",
       "       [1, 1, 1, 1, 1],\n",
       "       [1, 3, 1, 0, 1],\n",
       "       [1, 2, 0, 0, 1],\n",
       "       [1, 1, 0, 1, 1],\n",
       "       [1, 1, 2, 1, 0],\n",
       "       [0, 2, 2, 0, 1],\n",
       "       [0, 2, 4, 1, 0],\n",
       "       [0, 1, 2, 0, 1],\n",
       "       [1, 2, 4, 1, 0],\n",
       "       [0, 0, 0, 1, 1],\n",
       "       [0, 1, 2, 1, 1],\n",
       "       [0, 3, 2, 0, 0],\n",
       "       [1, 2, 0, 1, 1],\n",
       "       [0, 3, 3, 1, 1],\n",
       "       [1, 2, 2, 1, 0],\n",
       "       [0, 2, 0, 1, 0],\n",
       "       [0, 3, 2, 1, 1],\n",
       "       [1, 3, 4, 1, 1],\n",
       "       [1, 2, 2, 0, 1],\n",
       "       [1, 0, 2, 1, 1],\n",
       "       [0, 3, 0, 1, 0],\n",
       "       [0, 3, 4, 0, 1],\n",
       "       [0, 2, 0, 1, 0],\n",
       "       [0, 2, 5, 1, 1],\n",
       "       [0, 2, 4, 0, 1],\n",
       "       [0, 3, 3, 1, 0],\n",
       "       [0, 2, 1, 0, 1],\n",
       "       [1, 2, 0, 1, 1],\n",
       "       [1, 1, 0, 0, 1],\n",
       "       [0, 2, 5, 0, 1],\n",
       "       [1, 2, 2, 1, 1],\n",
       "       [1, 3, 1, 0, 0],\n",
       "       [0, 3, 1, 0, 1],\n",
       "       [0, 3, 0, 0, 1],\n",
       "       [1, 2, 1, 1, 1],\n",
       "       [1, 4, 5, 1, 0],\n",
       "       [0, 3, 0, 0, 1],\n",
       "       [1, 3, 1, 0, 1],\n",
       "       [0, 4, 2, 1, 0],\n",
       "       [0, 4, 4, 0, 0],\n",
       "       [1, 2, 0, 1, 1],\n",
       "       [1, 1, 5, 1, 0],\n",
       "       [1, 2, 5, 0, 0],\n",
       "       [1, 3, 2, 1, 1],\n",
       "       [0, 2, 5, 1, 1],\n",
       "       [0, 1, 5, 1, 0],\n",
       "       [1, 0, 4, 1, 0],\n",
       "       [1, 3, 0, 1, 1],\n",
       "       [1, 3, 0, 0, 1],\n",
       "       [1, 3, 1, 1, 1],\n",
       "       [0, 1, 2, 1, 0],\n",
       "       [1, 4, 0, 0, 1],\n",
       "       [1, 3, 0, 1, 1],\n",
       "       [1, 3, 3, 1, 1],\n",
       "       [1, 3, 2, 1, 1],\n",
       "       [0, 2, 2, 1, 1],\n",
       "       [0, 1, 5, 1, 1],\n",
       "       [1, 2, 4, 1, 0],\n",
       "       [0, 3, 1, 1, 1],\n",
       "       [0, 4, 1, 1, 1],\n",
       "       [1, 1, 5, 1, 0],\n",
       "       [1, 4, 1, 1, 0],\n",
       "       [0, 3, 0, 1, 1],\n",
       "       [1, 3, 1, 0, 1],\n",
       "       [0, 1, 0, 1, 0],\n",
       "       [0, 3, 4, 0, 0],\n",
       "       [0, 2, 1, 0, 1],\n",
       "       [0, 2, 0, 0, 1],\n",
       "       [0, 1, 2, 1, 1],\n",
       "       [0, 1, 0, 0, 1],\n",
       "       [1, 1, 1, 0, 1],\n",
       "       [1, 4, 4, 1, 1],\n",
       "       [1, 2, 2, 1, 1],\n",
       "       [1, 1, 2, 0, 1],\n",
       "       [0, 1, 0, 0, 1],\n",
       "       [1, 2, 1, 0, 1],\n",
       "       [1, 1, 2, 1, 1],\n",
       "       [0, 1, 5, 1, 0],\n",
       "       [1, 4, 0, 0, 1],\n",
       "       [1, 1, 5, 1, 1],\n",
       "       [0, 0, 2, 0, 0],\n",
       "       [1, 2, 0, 1, 1],\n",
       "       [0, 1, 2, 0, 0],\n",
       "       [0, 2, 4, 0, 0],\n",
       "       [0, 2, 3, 0, 1],\n",
       "       [0, 3, 2, 1, 1],\n",
       "       [1, 4, 2, 1, 0],\n",
       "       [0, 4, 4, 1, 0],\n",
       "       [0, 3, 0, 1, 0],\n",
       "       [0, 3, 0, 0, 1],\n",
       "       [1, 2, 3, 0, 1],\n",
       "       [0, 4, 4, 1, 1],\n",
       "       [0, 4, 4, 1, 1],\n",
       "       [1, 4, 5, 0, 0],\n",
       "       [1, 2, 3, 0, 1],\n",
       "       [1, 0, 0, 0, 0],\n",
       "       [0, 1, 5, 1, 0],\n",
       "       [0, 3, 0, 0, 1],\n",
       "       [0, 3, 5, 0, 1],\n",
       "       [0, 2, 4, 1, 0],\n",
       "       [1, 1, 2, 1, 1],\n",
       "       [1, 4, 1, 0, 0],\n",
       "       [0, 3, 5, 0, 0],\n",
       "       [1, 3, 5, 1, 1],\n",
       "       [0, 3, 4, 0, 0],\n",
       "       [1, 3, 5, 1, 0],\n",
       "       [0, 4, 4, 1, 1],\n",
       "       [1, 3, 2, 1, 0],\n",
       "       [1, 3, 4, 1, 1],\n",
       "       [1, 1, 2, 0, 1],\n",
       "       [1, 3, 3, 1, 1],\n",
       "       [0, 2, 5, 1, 0],\n",
       "       [0, 4, 1, 0, 1],\n",
       "       [1, 3, 1, 1, 0],\n",
       "       [1, 3, 2, 0, 0],\n",
       "       [0, 2, 0, 1, 1],\n",
       "       [1, 3, 4, 1, 1],\n",
       "       [1, 3, 1, 1, 0],\n",
       "       [0, 2, 2, 1, 1],\n",
       "       [1, 3, 4, 1, 1],\n",
       "       [1, 2, 2, 1, 1],\n",
       "       [0, 2, 5, 0, 1],\n",
       "       [1, 1, 4, 0, 1],\n",
       "       [0, 0, 5, 0, 1],\n",
       "       [1, 0, 2, 0, 1],\n",
       "       [0, 2, 5, 0, 0],\n",
       "       [1, 4, 4, 1, 1],\n",
       "       [1, 2, 4, 1, 1],\n",
       "       [0, 3, 4, 1, 1],\n",
       "       [0, 3, 2, 1, 0],\n",
       "       [1, 4, 1, 0, 0],\n",
       "       [0, 2, 4, 1, 0],\n",
       "       [1, 4, 2, 0, 0],\n",
       "       [1, 3, 0, 0, 1],\n",
       "       [0, 2, 4, 1, 1],\n",
       "       [0, 2, 0, 1, 1],\n",
       "       [1, 0, 2, 1, 1],\n",
       "       [0, 3, 5, 1, 1],\n",
       "       [0, 2, 0, 1, 1],\n",
       "       [1, 0, 2, 0, 1],\n",
       "       [1, 2, 0, 1, 1],\n",
       "       [0, 3, 2, 0, 0],\n",
       "       [0, 0, 5, 1, 1],\n",
       "       [0, 2, 2, 0, 0],\n",
       "       [1, 2, 2, 1, 1],\n",
       "       [1, 4, 4, 1, 1],\n",
       "       [1, 3, 4, 1, 1],\n",
       "       [0, 2, 0, 1, 1],\n",
       "       [0, 4, 0, 0, 0],\n",
       "       [0, 2, 4, 0, 1],\n",
       "       [0, 2, 0, 0, 0],\n",
       "       [0, 2, 4, 1, 1],\n",
       "       [1, 4, 4, 1, 1],\n",
       "       [1, 3, 2, 0, 0],\n",
       "       [0, 1, 2, 1, 1],\n",
       "       [0, 4, 0, 1, 0],\n",
       "       [1, 3, 4, 1, 1],\n",
       "       [1, 1, 2, 1, 0],\n",
       "       [0, 3, 4, 0, 1],\n",
       "       [1, 0, 2, 0, 0],\n",
       "       [1, 2, 2, 1, 1],\n",
       "       [0, 3, 4, 0, 0],\n",
       "       [1, 3, 2, 1, 1],\n",
       "       [0, 2, 0, 1, 0],\n",
       "       [0, 4, 1, 1, 1],\n",
       "       [0, 2, 1, 0, 1],\n",
       "       [1, 2, 4, 1, 1],\n",
       "       [1, 1, 4, 1, 1],\n",
       "       [1, 0, 1, 1, 1],\n",
       "       [1, 2, 4, 0, 0],\n",
       "       [0, 1, 0, 1, 1],\n",
       "       [1, 0, 4, 0, 1],\n",
       "       [1, 3, 4, 0, 1],\n",
       "       [0, 1, 5, 0, 0],\n",
       "       [1, 1, 5, 1, 0],\n",
       "       [0, 0, 0, 1, 0],\n",
       "       [1, 0, 5, 1, 0]])"
      ]
     },
     "execution_count": 22,
     "metadata": {},
     "output_type": "execute_result"
    }
   ],
   "source": [
    "x_test"
   ]
  },
  {
   "cell_type": "code",
   "execution_count": 23,
   "metadata": {},
   "outputs": [
    {
     "data": {
      "text/plain": [
       "array([ 69.,  77.,  45.,  68.,  74.,  73.,  70.,  44.,  89.,  39.,  51.,\n",
       "        64.,  84.,  81.,  54.,  39.,  52.,  86.,  54.,  80.,  63.,  56.,\n",
       "        76.,  61.,  48.,  65.,  59.,  50.,  63.,  82.,  80.,  89.,  89.,\n",
       "        57.,  55.,  85.,  97.,  60.,  71.,  73.,  69.,  57.,  70.,  71.,\n",
       "        79.,  58.,  85.,  62.,  83.,  56.,  40.,  63.,  48.,  57.,  40.,\n",
       "        71.,  53.,  64.,  77.,  61.,  68.,  78.,  50.,  72.,  66.,  64.,\n",
       "        72.,  51.,  67.,  55.,  75.,  84.,  75.,  65.,  57.,  66.,  73.,\n",
       "        70.,  29.,  77.,  79.,  86.,  69.,  83.,  68.,  76.,  65.,  91.,\n",
       "        71.,  55.,  72.,  62.,  61.,  62.,  79.,  72.,  53.,  66.,  63.,\n",
       "        65.,  42.,  87.,  64.,  41.,  78.,  76.,  69.,  59.,  56.,  86.,\n",
       "        68.,  76.,  32.,  54.,  68.,  73.,  80.,  77.,  81.,  59.,  53.,\n",
       "        78.,  91.,  81.,  75.,  56.,  73.,  75.,  71.,  62.,  66.,  67.,\n",
       "        23.,  82.,  84.,  60.,  65.,  65.,  69.,  82.,  72.,  67.,  57.,\n",
       "        60.,  77.,  38.,  41.,  45.,  81.,  89.,  50.,  72.,  96.,  70.,\n",
       "        74.,  81.,  52.,  56.,  56.,  52.,  91.,  50.,  52.,  94.,  66.,\n",
       "        77.,  77.,  70.,  58.,  63.,  58.,  66.,  31.,  65.,  85.,  68.,\n",
       "        69.,  53.,  96.,  80.,  66.,  83.,  68.,  67.,  79.,  68.,  97.,\n",
       "       100.,  73.,  47.,  51.,  61.,  50.,  77.,  58.,  61.,  84.,  81.,\n",
       "        70.,  66.])"
      ]
     },
     "execution_count": 23,
     "metadata": {},
     "output_type": "execute_result"
    }
   ],
   "source": [
    "y_test"
   ]
  },
  {
   "cell_type": "markdown",
   "metadata": {},
   "source": [
    "# Model Building"
   ]
  },
  {
   "cell_type": "code",
   "execution_count": 24,
   "metadata": {},
   "outputs": [],
   "source": [
    "from sklearn.neighbors import KNeighborsRegressor\n",
    "\n",
    "from sklearn.metrics import mean_absolute_error"
   ]
  },
  {
   "cell_type": "code",
   "execution_count": 35,
   "metadata": {},
   "outputs": [],
   "source": [
    "#K-Nearest Neighbors\n",
    "neighbors = KNeighborsRegressor(n_neighbors= 15).fit(x_train, y_train)"
   ]
  },
  {
   "cell_type": "code",
   "execution_count": 39,
   "metadata": {},
   "outputs": [
    {
     "data": {
      "text/plain": [
       "['performance.save']"
      ]
     },
     "execution_count": 39,
     "metadata": {},
     "output_type": "execute_result"
    }
   ],
   "source": [
    "from joblib import dump\n",
    "dump(neighbors,'performance.save')"
   ]
  },
  {
   "cell_type": "code",
   "execution_count": 37,
   "metadata": {
    "collapsed": true
   },
   "outputs": [
    {
     "data": {
      "text/plain": [
       "array([68.93333333, 63.46666667, 61.26666667, 61.53333333, 70.66666667,\n",
       "       57.93333333, 73.26666667, 67.13333333, 69.6       , 62.73333333,\n",
       "       70.66666667, 62.8       , 74.86666667, 67.13333333, 69.33333333,\n",
       "       57.2       , 61.73333333, 77.46666667, 70.4       , 69.13333333,\n",
       "       63.06666667, 68.8       , 63.46666667, 68.06666667, 60.        ,\n",
       "       63.46666667, 63.4       , 65.26666667, 57.2       , 79.26666667,\n",
       "       57.86666667, 77.        , 61.06666667, 72.2       , 69.66666667,\n",
       "       67.13333333, 71.93333333, 72.2       , 74.8       , 68.46666667,\n",
       "       66.13333333, 55.46666667, 63.4       , 75.8       , 66.33333333,\n",
       "       74.8       , 65.2       , 63.66666667, 75.93333333, 69.4       ,\n",
       "       67.13333333, 60.33333333, 57.33333333, 65.33333333, 69.46666667,\n",
       "       68.93333333, 68.8       , 74.26666667, 75.2       , 68.8       ,\n",
       "       60.        , 75.6       , 71.8       , 67.13333333, 64.93333333,\n",
       "       59.53333333, 62.73333333, 65.2       , 71.53333333, 73.        ,\n",
       "       67.8       , 70.73333333, 72.93333333, 70.86666667, 71.26666667,\n",
       "       67.8       , 71.6       , 62.73333333, 70.46666667, 62.        ,\n",
       "       77.        , 71.93333333, 73.        , 64.93333333, 77.06666667,\n",
       "       73.46666667, 60.        , 71.26666667, 71.66666667, 69.4       ,\n",
       "       71.73333333, 72.2       , 62.8       , 66.        , 69.33333333,\n",
       "       65.33333333, 54.46666667, 62.8       , 57.93333333, 61.73333333,\n",
       "       71.53333333, 71.26666667, 62.4       , 66.66666667, 67.13333333,\n",
       "       63.46666667, 71.13333333, 62.46666667, 68.46666667, 67.4       ,\n",
       "       82.33333333, 75.8       , 68.8       , 61.86666667, 70.86666667,\n",
       "       70.86666667, 71.66666667, 61.86666667, 60.13333333, 71.53333333,\n",
       "       68.8       , 60.13333333, 79.26666667, 61.73333333, 76.8       ,\n",
       "       66.73333333, 66.8       , 71.66666667, 72.86666667, 70.86666667,\n",
       "       64.86666667, 66.13333333, 54.46666667, 71.6       , 70.73333333,\n",
       "       65.93333333, 72.66666667, 62.33333333, 71.6       , 66.13333333,\n",
       "       72.66666667, 70.46666667, 66.13333333, 65.33333333, 57.33333333,\n",
       "       54.33333333, 54.13333333, 61.2       , 53.46666667, 69.33333333,\n",
       "       66.73333333, 73.46666667, 67.33333333, 76.8       , 79.26666667,\n",
       "       71.13333333, 70.73333333, 70.66666667, 71.6       , 63.4       ,\n",
       "       72.06666667, 71.6       , 61.2       , 67.13333333, 69.66666667,\n",
       "       62.73333333, 64.6       , 65.33333333, 69.33333333, 66.13333333,\n",
       "       71.6       , 78.53333333, 63.66666667, 72.33333333, 70.66666667,\n",
       "       69.33333333, 62.33333333, 72.2       , 79.26666667, 66.13333333,\n",
       "       65.26666667, 66.33333333, 67.8       , 65.33333333, 71.66666667,\n",
       "       62.73333333, 74.8       , 73.        , 69.4       , 66.73333333,\n",
       "       63.53333333, 64.13333333, 63.8       , 63.46666667, 56.13333333,\n",
       "       61.53333333, 58.86666667, 64.93333333, 68.8       , 63.4       ])"
      ]
     },
     "execution_count": 37,
     "metadata": {},
     "output_type": "execute_result"
    }
   ],
   "source": [
    "neighbors_pred = neighbors.predict(x_test)\n",
    "neighbors_pred"
   ]
  },
  {
   "cell_type": "raw",
   "metadata": {},
   "source": [
    "Model Evaluation:"
   ]
  },
  {
   "cell_type": "code",
   "execution_count": 30,
   "metadata": {},
   "outputs": [
    {
     "data": {
      "text/plain": [
       "10.872333333333334"
      ]
     },
     "execution_count": 30,
     "metadata": {},
     "output_type": "execute_result"
    }
   ],
   "source": [
    "mean_absolute_error(y_test, neighbors_pred)"
   ]
  },
  {
   "cell_type": "code",
   "execution_count": 31,
   "metadata": {},
   "outputs": [
    {
     "data": {
      "text/plain": [
       "array([63.46666667])"
      ]
     },
     "execution_count": 31,
     "metadata": {},
     "output_type": "execute_result"
    }
   ],
   "source": [
    "neighbors.predict([[1,2,0,0,1]])"
   ]
  }
 ],
 "metadata": {
  "kernelspec": {
   "display_name": "Python 3",
   "language": "python",
   "name": "python3"
  },
  "language_info": {
   "codemirror_mode": {
    "name": "ipython",
    "version": 3
   },
   "file_extension": ".py",
   "mimetype": "text/x-python",
   "name": "python",
   "nbconvert_exporter": "python",
   "pygments_lexer": "ipython3",
   "version": "3.8.3"
  }
 },
 "nbformat": 4,
 "nbformat_minor": 4
}
